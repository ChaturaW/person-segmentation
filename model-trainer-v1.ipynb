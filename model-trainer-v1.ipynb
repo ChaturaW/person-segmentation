{
 "cells": [
  {
   "cell_type": "code",
   "execution_count": 1,
   "id": "51ff16d0",
   "metadata": {},
   "outputs": [],
   "source": [
    "import tensorflow as tf\n",
    "import numpy as np\n",
    "from glob import glob\n",
    "import matplotlib.pyplot as plt\n",
    "import keras.backend as K\n",
    "\n",
    "from tensorflow_examples.models.pix2pix import pix2pix\n",
    "from IPython.display import clear_output"
   ]
  },
  {
   "cell_type": "code",
   "execution_count": 2,
   "id": "48c23103",
   "metadata": {},
   "outputs": [],
   "source": [
    "PATH = \"data\"\n",
    "PREDICTION_SAVE_PATH = \"predictions\"\n",
    "AUTOTUNE = tf.data.experimental.AUTOTUNE\n",
    "WIDTH, HEIGHT = 512, 512\n",
    "BATCH_SIZE = 8"
   ]
  },
  {
   "cell_type": "code",
   "execution_count": 3,
   "id": "dcb53168",
   "metadata": {},
   "outputs": [],
   "source": [
    "def load_data(path):\n",
    "    images = sorted(glob(f\"{path}/images/*.png\"))\n",
    "    masks = sorted(glob(f\"{path}/masks/*.png\"))\n",
    "    return images, masks\n",
    "\n",
    "image_files, mask_files = load_data(PATH)"
   ]
  },
  {
   "cell_type": "code",
   "execution_count": 4,
   "id": "65d73c0b",
   "metadata": {},
   "outputs": [
    {
     "name": "stdout",
     "output_type": "stream",
     "text": [
      "2667 2667\n"
     ]
    }
   ],
   "source": [
    "print(len(image_files), len(mask_files))\n",
    "DATASET_SIZE = len(image_files)"
   ]
  },
  {
   "cell_type": "code",
   "execution_count": 5,
   "id": "475ec2e7",
   "metadata": {},
   "outputs": [],
   "source": [
    "dataset = tf.data.Dataset.from_tensor_slices((image_files, mask_files))"
   ]
  },
  {
   "cell_type": "code",
   "execution_count": 6,
   "id": "eca4806e",
   "metadata": {},
   "outputs": [],
   "source": [
    "def normalize(input_image, input_mask):\n",
    "    input_image = tf.cast(input_image, tf.float32)/ 255.0\n",
    "    input_image = tf.expand_dims(input_image, 0)\n",
    "    \n",
    "    #input_mask = tf.cast(input_mask, tf.uint8)\n",
    "    #input_mask = tf.cast(input_mask, tf.bool)\n",
    "    input_mask = tf.cast(input_mask, tf.float32)/ 255.0\n",
    "    input_mask = tf.expand_dims(input_mask, 0)\n",
    "    #input_mask -= 1\n",
    "    \n",
    "    return input_image, input_mask\n",
    "\n",
    "\n",
    "def parse_image(image_file, mask_file):\n",
    "    img = tf.io.read_file(image_file)\n",
    "    img = tf.image.decode_png(img, channels=3)\n",
    "    img = tf.image.resize(img, size=(WIDTH, HEIGHT))\n",
    "    msk = tf.io.read_file(mask_file)\n",
    "    msk = tf.image.decode_png(msk, channels=1)\n",
    "    msk = tf.image.resize(msk, size=(WIDTH, HEIGHT))\n",
    "    \n",
    "    img, msk = normalize(img, msk)\n",
    "    \n",
    "    return img, msk"
   ]
  },
  {
   "cell_type": "code",
   "execution_count": 7,
   "id": "81c41fa4",
   "metadata": {},
   "outputs": [],
   "source": [
    "dataset = dataset.map(parse_image) #.batch(BATCH_SIZE)\n",
    "dataset = dataset.prefetch(buffer_size=AUTOTUNE)"
   ]
  },
  {
   "cell_type": "code",
   "execution_count": 8,
   "id": "26e5282d",
   "metadata": {},
   "outputs": [],
   "source": [
    "def display(display_list):\n",
    "    plt.figure(figsize=(WIDTH, HEIGHT))\n",
    "    print(display_list)\n",
    "    title = ['input image', 'true mask', 'predicted mask']\n",
    "    \n",
    "    for i in range(len(display_list)):\n",
    "        plt.subplot(1, len(display_list), i+1)\n",
    "        plt.title(title[i])\n",
    "        plt.imshow(tf.keras.preprocessing.image.array_to_img(display_list[i]))\n",
    "        plt.axis('off')\n",
    "    plt.show()\n",
    "    \n",
    "for image, mask in dataset.take(2):\n",
    "    sample_image, sample_mask = image, mask\n",
    "    \n",
    "#display([sample_image[1], sample_mask[1]])"
   ]
  },
  {
   "cell_type": "code",
   "execution_count": 9,
   "id": "0fcbe150",
   "metadata": {},
   "outputs": [
    {
     "name": "stdout",
     "output_type": "stream",
     "text": [
      "<PrefetchDataset shapes: ((1, 512, 512, 3), (1, 512, 512, 1)), types: (tf.float32, tf.float32)>\n"
     ]
    }
   ],
   "source": [
    "print(dataset)"
   ]
  },
  {
   "cell_type": "code",
   "execution_count": 10,
   "id": "f0cba1ad",
   "metadata": {
    "scrolled": true
   },
   "outputs": [
    {
     "name": "stdout",
     "output_type": "stream",
     "text": [
      "WARNING:tensorflow:`input_shape` is undefined or non-square, or `rows` is not in [96, 128, 160, 192, 224]. Weights for input shape (224, 224) will be loaded as the default.\n"
     ]
    }
   ],
   "source": [
    "base_model = tf.keras.applications.MobileNetV2(input_shape=[WIDTH, HEIGHT, 3], include_top=False)"
   ]
  },
  {
   "cell_type": "code",
   "execution_count": 11,
   "id": "2ab2064c",
   "metadata": {},
   "outputs": [],
   "source": [
    "#base_model.summary()"
   ]
  },
  {
   "cell_type": "code",
   "execution_count": 12,
   "id": "8366e437",
   "metadata": {},
   "outputs": [],
   "source": [
    "layer_names = [\n",
    "    'block_1_expand_relu',\n",
    "    'block_3_expand_relu',\n",
    "    'block_6_expand_relu',\n",
    "    'block_13_expand_relu',\n",
    "    'block_16_project'    \n",
    "]\n",
    "\n",
    "base_model_outputs = [base_model.get_layer(name).output for name in layer_names]\n",
    "down_stack = tf.keras.Model(inputs=base_model.input, outputs=base_model_outputs)\n",
    "down_stack.trainable = False"
   ]
  },
  {
   "cell_type": "code",
   "execution_count": 13,
   "id": "8e9865ab",
   "metadata": {},
   "outputs": [],
   "source": [
    "axis_array = [1]\n",
    "\n",
    "def dice_coef(y_true, y_pred, smooth=1):\n",
    "    intersection = K.sum(y_true * y_pred, axis=axis_array)\n",
    "    union = K.sum(y_true, axis=axis_array) + K.sum(y_pred, axis=axis_array)\n",
    "    return K.mean( (2. * intersection + smooth) / (union + smooth), axis=0)\n",
    "\n",
    "def dice_loss(in_gt, in_pred):\n",
    "    return 1-dice_coef(in_gt, in_pred)\n",
    "\n",
    "def iou_coef(y_true, y_pred, smooth=1):\n",
    "  intersection = K.sum(K.abs(y_true * y_pred), axis=axis_array)\n",
    "  union = K.sum(y_true,axis_array)+K.sum(y_pred,axis_array)-intersection\n",
    "  iou = K.mean((intersection + smooth) / (union + smooth), axis=0)\n",
    "  return iou\n",
    "\n",
    "def iou_loss(in_gt, in_pred):\n",
    "    return 1-iou_coef(in_gt, in_pred)"
   ]
  },
  {
   "cell_type": "code",
   "execution_count": 14,
   "id": "4b798d53",
   "metadata": {},
   "outputs": [],
   "source": [
    "up_stack = [\n",
    "    pix2pix.upsample(512, 3),\n",
    "    pix2pix.upsample(256, 3),\n",
    "    pix2pix.upsample(128, 3),\n",
    "    pix2pix.upsample(64, 3),\n",
    "]\n",
    "\n",
    "def unet_model(output_channels):\n",
    "    inputs = tf.keras.layers.Input(shape=[HEIGHT, WIDTH, 3])\n",
    "\n",
    "    skips = down_stack(inputs)\n",
    "    x = skips[-1]\n",
    "    skips = reversed(skips[:-1])\n",
    "\n",
    "    for up, skip in zip(up_stack, skips):\n",
    "        x = up(x)\n",
    "        concat = tf.keras.layers.Concatenate()\n",
    "        x = concat([x, skip])\n",
    "\n",
    "    last = tf.keras.layers.Conv2DTranspose(\n",
    "      output_channels, 3, strides=2, activation='softmax',\n",
    "      padding='same')  \n",
    "\n",
    "    x = last(x)\n",
    "    model = tf.keras.Model(inputs=inputs, outputs=x)\n",
    "    model.compile(optimizer='adam',loss = dice_loss,\n",
    "              metrics=[dice_coef,'accuracy'])\n",
    "\n",
    "    return model\n",
    "\n",
    "model = unet_model(1)"
   ]
  },
  {
   "cell_type": "code",
   "execution_count": 15,
   "id": "383248eb",
   "metadata": {},
   "outputs": [
    {
     "name": "stdout",
     "output_type": "stream",
     "text": [
      "Model: \"model_1\"\n",
      "__________________________________________________________________________________________________\n",
      "Layer (type)                    Output Shape         Param #     Connected to                     \n",
      "==================================================================================================\n",
      "input_2 (InputLayer)            [(None, 512, 512, 3) 0                                            \n",
      "__________________________________________________________________________________________________\n",
      "model (Functional)              [(None, 256, 256, 96 1841984     input_2[0][0]                    \n",
      "__________________________________________________________________________________________________\n",
      "sequential (Sequential)         (None, 32, 32, 512)  1476608     model[0][4]                      \n",
      "__________________________________________________________________________________________________\n",
      "concatenate (Concatenate)       (None, 32, 32, 1088) 0           sequential[0][0]                 \n",
      "                                                                 model[0][3]                      \n",
      "__________________________________________________________________________________________________\n",
      "sequential_1 (Sequential)       (None, 64, 64, 256)  2507776     concatenate[0][0]                \n",
      "__________________________________________________________________________________________________\n",
      "concatenate_1 (Concatenate)     (None, 64, 64, 448)  0           sequential_1[0][0]               \n",
      "                                                                 model[0][2]                      \n",
      "__________________________________________________________________________________________________\n",
      "sequential_2 (Sequential)       (None, 128, 128, 128 516608      concatenate_1[0][0]              \n",
      "__________________________________________________________________________________________________\n",
      "concatenate_2 (Concatenate)     (None, 128, 128, 272 0           sequential_2[0][0]               \n",
      "                                                                 model[0][1]                      \n",
      "__________________________________________________________________________________________________\n",
      "sequential_3 (Sequential)       (None, 256, 256, 64) 156928      concatenate_2[0][0]              \n",
      "__________________________________________________________________________________________________\n",
      "concatenate_3 (Concatenate)     (None, 256, 256, 160 0           sequential_3[0][0]               \n",
      "                                                                 model[0][0]                      \n",
      "__________________________________________________________________________________________________\n",
      "conv2d_transpose_4 (Conv2DTrans (None, 512, 512, 1)  1441        concatenate_3[0][0]              \n",
      "==================================================================================================\n",
      "Total params: 6,501,345\n",
      "Trainable params: 4,657,441\n",
      "Non-trainable params: 1,843,904\n",
      "__________________________________________________________________________________________________\n"
     ]
    }
   ],
   "source": [
    "model.summary()"
   ]
  },
  {
   "cell_type": "code",
   "execution_count": 16,
   "id": "7ff2dafd",
   "metadata": {},
   "outputs": [
    {
     "name": "stdout",
     "output_type": "stream",
     "text": [
      "2133 533\n",
      "<TakeDataset shapes: ((1, 512, 512, 3), (1, 512, 512, 1)), types: (tf.float32, tf.float32)> <SkipDataset shapes: ((1, 512, 512, 3), (1, 512, 512, 1)), types: (tf.float32, tf.float32)>\n",
      "Training dataset batch size: 2133\n",
      "Test dataset batch size: 534\n"
     ]
    }
   ],
   "source": [
    "train_size = int(0.8 * DATASET_SIZE)\n",
    "val_size = int(0.2 * DATASET_SIZE)\n",
    "\n",
    "print(train_size, val_size)\n",
    "\n",
    "train_ds = dataset.take(train_size)\n",
    "validation_ds = dataset.skip(train_size)\n",
    "\n",
    "print(train_ds, validation_ds)\n",
    "\n",
    "train_batch_size = train_ds.cardinality().numpy()\n",
    "validation_batch_size = validation_ds.cardinality().numpy()\n",
    "print(f'Training dataset batch size: {train_batch_size}')\n",
    "print(f'Test dataset batch size: {validation_batch_size}')\n"
   ]
  },
  {
   "cell_type": "code",
   "execution_count": 17,
   "id": "9a4a0044",
   "metadata": {
    "scrolled": true
   },
   "outputs": [
    {
     "name": "stdout",
     "output_type": "stream",
     "text": [
      "<TakeDataset shapes: ((1, 512, 512, 3), (1, 512, 512, 1)), types: (tf.float32, tf.float32)>\n",
      "<SkipDataset shapes: ((1, 512, 512, 3), (1, 512, 512, 1)), types: (tf.float32, tf.float32)>\n"
     ]
    }
   ],
   "source": [
    "print(train_ds)\n",
    "print(validation_ds)"
   ]
  },
  {
   "cell_type": "code",
   "execution_count": 18,
   "id": "3e0afb8f",
   "metadata": {
    "scrolled": true
   },
   "outputs": [
    {
     "name": "stdout",
     "output_type": "stream",
     "text": [
      "2133/2133 [==============================] - 373s 174ms/step - loss: 0.6206 - dice_coef: 0.3794 - accuracy: 0.3126 - val_loss: 0.6094 - val_dice_coef: 0.3906 - val_accuracy: 0.3213\n"
     ]
    }
   ],
   "source": [
    "EPOCHS=1\n",
    "\n",
    "history = model.fit(train_ds, validation_data=validation_ds, batch_size=8, epochs=EPOCHS, shuffle=True, verbose=True)"
   ]
  },
  {
   "cell_type": "code",
   "execution_count": 20,
   "id": "54ed4150",
   "metadata": {},
   "outputs": [
    {
     "data": {
      "image/png": "[encoded data removed]",
      "text/plain": [
       "<Figure size 576x576 with 2 Axes>"
      ]
     },
     "metadata": {
      "needs_background": "light"
     },
     "output_type": "display_data"
    }
   ],
   "source": [
    "#history = model_history\n",
    "accuracy = history.history['accuracy']\n",
    "#val_acc = history.history['val_accuracy']\n",
    "\n",
    "loss = history.history['loss']\n",
    "#val_loss = history.history['val_loss']\n",
    "\n",
    "epochs_range = range(EPOCHS)\n",
    "\n",
    "plt.figure(figsize=(8, 8))\n",
    "plt.subplot(1, 2, 1)\n",
    "plt.plot(epochs_range, accuracy, label='Training Accuracy')\n",
    "#plt.plot(epochs_range, val_acc, label='Validation Accuracy')\n",
    "plt.legend(loc='lower right')\n",
    "plt.title('Training and Validation Accuracy')\n",
    "\n",
    "plt.subplot(1, 2, 2)\n",
    "plt.plot(epochs_range, loss, label='Training Loss')\n",
    "#plt.plot(epochs_range, val_loss, label='Validation Loss')\n",
    "plt.legend(loc='upper right')\n",
    "plt.title('Training and Validation Loss')\n",
    "plt.show()"
   ]
  },
  {
   "cell_type": "code",
   "execution_count": 19,
   "id": "f83cc211",
   "metadata": {
    "scrolled": true
   },
   "outputs": [
    {
     "name": "stdout",
     "output_type": "stream",
     "text": [
      "[0.31258487701416016]\n"
     ]
    }
   ],
   "source": [
    "print(history.history['accuracy'])"
   ]
  },
  {
   "cell_type": "code",
   "execution_count": 20,
   "id": "ab6ff165",
   "metadata": {},
   "outputs": [
    {
     "name": "stdout",
     "output_type": "stream",
     "text": [
      "data\n"
     ]
    }
   ],
   "source": [
    "print(PATH)"
   ]
  },
  {
   "cell_type": "code",
   "execution_count": 21,
   "id": "405663ef",
   "metadata": {
    "scrolled": false
   },
   "outputs": [
    {
     "data": {
      "text/plain": [
       "<matplotlib.image.AxesImage at 0x179d7b5e0>"
      ]
     },
     "execution_count": 21,
     "metadata": {},
     "output_type": "execute_result"
    },
    {
     "data": {
      "image/png": "[encoded data removed]",
      "text/plain": [
       "<Figure size 432x288 with 1 Axes>"
      ]
     },
     "metadata": {
      "needs_background": "light"
     },
     "output_type": "display_data"
    }
   ],
   "source": [
    "#img_path = f\"{PATH}/test/IMG_1852.png\"\n",
    "#img_path = f\"{PATH}/test/test1.png\"\n",
    "img_path = \"test/Profile3.png\"\n",
    "#img_path = f\"{PATH}/test/sahas-standing.png\"\n",
    "#img_path = f\"{PATH}/test/sahas.png\"\n",
    "\n",
    "test_img = None\n",
    "test_img = tf.keras.preprocessing.image.load_img(img_path, target_size=(WIDTH, HEIGHT))\n",
    "plt.imshow(test_img)"
   ]
  },
  {
   "cell_type": "code",
   "execution_count": 22,
   "id": "b3ba762d",
   "metadata": {
    "scrolled": false
   },
   "outputs": [
    {
     "name": "stdout",
     "output_type": "stream",
     "text": [
      "KerasTensor(type_spec=TensorSpec(shape=(None, 512, 512, 3), dtype=tf.float32, name='input_2'), name='input_2', description=\"created by layer 'input_2'\")\n"
     ]
    }
   ],
   "source": [
    "print(model.input)"
   ]
  },
  {
   "cell_type": "code",
   "execution_count": 23,
   "id": "4a85a352",
   "metadata": {},
   "outputs": [
    {
     "data": {
      "text/plain": [
       "<matplotlib.image.AxesImage at 0x297ceca60>"
      ]
     },
     "execution_count": 23,
     "metadata": {},
     "output_type": "execute_result"
    },
    {
     "data": {
      "image/png": "[encoded data removed]",
      "text/plain": [
       "<Figure size 432x288 with 1 Axes>"
      ]
     },
     "metadata": {
      "needs_background": "light"
     },
     "output_type": "display_data"
    }
   ],
   "source": [
    "def display_mask(pred_mask):\n",
    "    #preds=model.predict(image)  \n",
    "    threshold = 0.000000001\n",
    "    pred_mask[pred_mask > threshold] = 1.0\n",
    "    pred_mask[pred_mask <= threshold] = 0.0 \n",
    "    return pred_mask\n",
    "\n",
    "def display_mask2(pred_mask):\n",
    "  pred_mask = tf.argmax(pred_mask, axis=-1)\n",
    "  pred_mask = pred_mask[..., tf.newaxis]\n",
    "  return pred_mask[0]\n",
    "\n",
    "img_path = \"test/Sahas.png\"\n",
    "pred_img = None\n",
    "pred_img = tf.keras.preprocessing.image.load_img(img_path, target_size=(WIDTH, HEIGHT))\n",
    "plt.imshow(pred_img)\n",
    "\n",
    "pred_img = tf.keras.preprocessing.image.img_to_array(pred_img)\n",
    "\n",
    "pred_img = tf.expand_dims(pred_img, 0)\n",
    "\n",
    "pred_img = model.predict(pred_img)\n",
    "output_mask = display_mask(pred_img)\n",
    "\n",
    "\n",
    "output_mask = tf.squeeze(output_mask, axis=0)\n",
    "\n",
    "mask_img2 = tf.keras.preprocessing.image.array_to_img(output_mask)\n",
    "\n",
    "plt.imshow(mask_img2)\n"
   ]
  },
  {
   "cell_type": "code",
   "execution_count": 58,
   "id": "3e0b19c3",
   "metadata": {},
   "outputs": [
    {
     "data": {
      "text/plain": [
       "<matplotlib.image.AxesImage at 0x2d96b5ee0>"
      ]
     },
     "execution_count": 58,
     "metadata": {},
     "output_type": "execute_result"
    },
    {
     "data": {
      "image/png": "[encoded data removed]",
      "text/plain": [
       "<Figure size 432x288 with 1 Axes>"
      ]
     },
     "metadata": {
      "needs_background": "light"
     },
     "output_type": "display_data"
    }
   ],
   "source": [
    "def display_mask3(pred_mask):\n",
    "    #preds=model.predict(image)  \n",
    "    threshold = 1.0\n",
    "    val = pred_mask > threshold\n",
    "    print(val)\n",
    "    pred_mask[pred_mask > threshold] = 1.0\n",
    "    pred_mask[pred_mask <= threshold] = 0.0 \n",
    "    return pred_mask\n",
    "\n",
    "\n",
    "img_path = \"test/Profile3.png\"\n",
    "pred_img = None\n",
    "pred_img = tf.keras.preprocessing.image.load_img(img_path, target_size=(WIDTH, HEIGHT))\n",
    "#plt.imshow(pred_img)\n",
    "\n",
    "pred_img = tf.keras.preprocessing.image.img_to_array(pred_img)\n",
    "\n",
    "pred_img = tf.expand_dims(pred_img, 0)\n",
    "\n",
    "pred_img = model.predict(pred_img)\n",
    "output_mask = display_mask2(pred_img)\n",
    "\n",
    "\n",
    "#output_mask = tf.squeeze(output_mask, axis=0)\n",
    "\n",
    "mask_img3 = tf.keras.preprocessing.image.array_to_img(output_mask)\n",
    "\n",
    "plt.imshow(mask_img3)"
   ]
  },
  {
   "cell_type": "code",
   "execution_count": null,
   "id": "8a1b05bd",
   "metadata": {},
   "outputs": [],
   "source": []
  }
 ],
 "metadata": {
  "kernelspec": {
   "display_name": "Python 3.9.4 64-bit ('tfp39': conda)",
   "language": "python",
   "name": "python394jvsc74a57bd07f1ba7a8850eb5df0f11e01e9d2b157245e2e7ef576e72dbf51ec933c8b68e10"
  },
  "language_info": {
   "codemirror_mode": {
    "name": "ipython",
    "version": 3
   },
   "file_extension": ".py",
   "mimetype": "text/x-python",
   "name": "python",
   "nbconvert_exporter": "python",
   "pygments_lexer": "ipython3",
   "version": "3.9.4"
  }
 },
 "nbformat": 4,
 "nbformat_minor": 5
}
