{
 "cells": [
  {
   "cell_type": "code",
   "execution_count": 1,
   "id": "8ebc6457",
   "metadata": {},
   "outputs": [],
   "source": [
    "import tensorflow as tf\n",
    "import numpy as np\n",
    "from glob import glob\n",
    "import matplotlib.pyplot as plt\n",
    "\n",
    "from tensorflow_examples.models.pix2pix import pix2pix\n",
    "from IPython.display import clear_output"
   ]
  },
  {
   "cell_type": "code",
   "execution_count": 2,
   "id": "e7e25b4d",
   "metadata": {},
   "outputs": [],
   "source": [
    "PATH = \"data\"\n",
    "AUTOTUNE = tf.data.experimental.AUTOTUNE\n",
    "WIDTH, HEIGHT = 128, 128\n",
    "BATCH_SIZE = 4\n",
    "\n",
    "def load_data(path):\n",
    "    images = sorted(glob(f\"{path}/images/*.png\"))\n",
    "    masks = sorted(glob(f\"{path}/masks/*.png\"))\n",
    "    return images, masks"
   ]
  },
  {
   "cell_type": "code",
   "execution_count": 3,
   "id": "3ef1b6ce",
   "metadata": {},
   "outputs": [],
   "source": [
    "image_files, mask_files = load_data(PATH)"
   ]
  },
  {
   "cell_type": "code",
   "execution_count": 4,
   "id": "78f2fe17",
   "metadata": {},
   "outputs": [
    {
     "name": "stdout",
     "output_type": "stream",
     "text": [
      "2667 2667\n"
     ]
    }
   ],
   "source": [
    "print(len(image_files), len(mask_files))\n",
    "DATASET_SIZE = len(image_files)"
   ]
  },
  {
   "cell_type": "code",
   "execution_count": 5,
   "id": "5b54901d",
   "metadata": {
    "scrolled": false
   },
   "outputs": [
    {
     "name": "stdout",
     "output_type": "stream",
     "text": [
      "data/images/ds10_pexels-photo-687782.png data/masks/ds10_pexels-photo-687782.png\n"
     ]
    }
   ],
   "source": [
    "print(image_files[0], mask_files[0])\n",
    "#print(images)"
   ]
  },
  {
   "cell_type": "code",
   "execution_count": null,
   "id": "0d555133",
   "metadata": {},
   "outputs": [],
   "source": [
    "print(image_files[0])\n",
    "img = tf.keras.preprocessing.image.load_img(image_files[0])\n",
    "img_arr = tf.keras.preprocessing.image.img_to_array(img)\n",
    "print(type(img_arr))\n",
    "#print(img_arr)\n",
    "img_arr = img_arr/255.0\n",
    "print(img_arr)\n",
    "plt.imshow(img_arr)"
   ]
  },
  {
   "cell_type": "code",
   "execution_count": null,
   "id": "0810d34a",
   "metadata": {},
   "outputs": [],
   "source": [
    "dataset = tf.data.Dataset.from_tensor_slices((image_files, mask_files))\n"
   ]
  },
  {
   "cell_type": "code",
   "execution_count": null,
   "id": "5c771c85",
   "metadata": {
    "scrolled": true
   },
   "outputs": [],
   "source": [
    "print(dataset)"
   ]
  },
  {
   "cell_type": "code",
   "execution_count": null,
   "id": "afa1673f",
   "metadata": {
    "scrolled": true
   },
   "outputs": [],
   "source": [
    "def normalize(input_image, input_mask):\n",
    "    #input_image = tf.cast(input_image, tf.float32)/ 255.0\n",
    "    input_image = input_image/255.0\n",
    "    input_mask -= 1\n",
    "    \n",
    "    return input_image, input_mask\n",
    "\n",
    "\n",
    "def read_image(image_file, mask_file):\n",
    "    \n",
    "    #img = tf.keras.preprocessing.image.load_img(image_file, target_size=(HEIGHT, WIDTH))\n",
    "    #img_arr = tf.keras.preprocessing.image.img_to_array(img)\n",
    "    \n",
    "    #mask_img = tf.keras.preprocessing.image.load_img(mask_file, target_size=(HEIGHT, WIDTH))\n",
    "    #mask_img_arr = tf.keras.preprocessing.image.img_to_array(mask_img)\n",
    "    \n",
    "    img = tf.io.read_file(image_file)\n",
    "    img = tf.image.decode_png(img, channels=3, dtype=tf.uint16)\n",
    "    img = tf.image.resize(img, size=(WIDTH, HEIGHT))\n",
    "    msk = tf.io.read_file(mask_file)\n",
    "    msk = tf.image.decode_png(msk, channels=1, dtype=tf.uint16)\n",
    "    msk = tf.image.resize(msk, size=(WIDTH, HEIGHT))\n",
    "    \n",
    "    img, msk = normalize(img, msk)\n",
    "    \n",
    "    return img, msk\n",
    "\n",
    "\n",
    "#def read_image(image_file, mask_file):\n",
    "    #print(image_file, mask_file)\n",
    "#    img = tf.io.read_file(image_file)\n",
    "#    img = tf.image.decode_png(img, channels=3, dtype=tf.uint16)\n",
    "#    img = tf.image.resize(img, size=(WIDTH, HEIGHT))\n",
    "#    msk = tf.io.read_file(mask_file)\n",
    "#    msk = tf.image.decode_png(msk, channels=1, dtype=tf.uint16)\n",
    "#    msk = tf.image.resize(msk, size=(WIDTH, HEIGHT))\n",
    "    \n",
    "#    img, msk = normalize(img, msk)\n",
    "    \n",
    "#    return img, msk"
   ]
  },
  {
   "cell_type": "code",
   "execution_count": null,
   "id": "7cd6ccbc",
   "metadata": {},
   "outputs": [],
   "source": [
    "dataset = dataset.map(read_image).batch(BATCH_SIZE)\n"
   ]
  },
  {
   "cell_type": "code",
   "execution_count": null,
   "id": "dfa6de71",
   "metadata": {},
   "outputs": [],
   "source": [
    "dataset = dataset.prefetch(buffer_size=AUTOTUNE)"
   ]
  },
  {
   "cell_type": "code",
   "execution_count": null,
   "id": "6bcf79dc",
   "metadata": {},
   "outputs": [],
   "source": [
    "print(dataset)"
   ]
  },
  {
   "cell_type": "code",
   "execution_count": null,
   "id": "e6c5e044",
   "metadata": {},
   "outputs": [],
   "source": [
    "def display(display_list):\n",
    "    plt.figure(figsize=(128,128))\n",
    "    print(display_list)\n",
    "    title = ['input image', 'true mask', 'predicted mask']\n",
    "    \n",
    "    for i in range(len(display_list)):\n",
    "        plt.subplot(1, len(display_list), i+1)\n",
    "        plt.title(title[i])\n",
    "        plt.imshow(tf.keras.preprocessing.image.array_to_img(display_list[i]))\n",
    "        plt.axis('off')\n",
    "    plt.show()"
   ]
  },
  {
   "cell_type": "code",
   "execution_count": null,
   "id": "9fb98910",
   "metadata": {},
   "outputs": [],
   "source": [
    "for image, mask in dataset.take(2):\n",
    "    sample_image, sample_mask = image, mask\n",
    "#display([sample_image[0], sample_mask[0]])\n",
    "display([sample_image[0], sample_mask[0]])"
   ]
  },
  {
   "cell_type": "code",
   "execution_count": null,
   "id": "114c4b46",
   "metadata": {},
   "outputs": [],
   "source": [
    "base_model = tf.keras.applications.MobileNetV2(input_shape=[128, 128, 3], include_top=False)"
   ]
  },
  {
   "cell_type": "code",
   "execution_count": null,
   "id": "e91e8243",
   "metadata": {},
   "outputs": [],
   "source": [
    "base_model.summary()"
   ]
  },
  {
   "cell_type": "code",
   "execution_count": null,
   "id": "66635d3a",
   "metadata": {},
   "outputs": [],
   "source": [
    "layer_names = [\n",
    "    'block_1_expand_relu',\n",
    "    'block_3_expand_relu',\n",
    "    'block_6_expand_relu',\n",
    "    'block_13_expand_relu',\n",
    "    'block_16_project'    \n",
    "]\n",
    "\n",
    "base_model_outputs = [base_model.get_layer(name).output for name in layer_names]"
   ]
  },
  {
   "cell_type": "code",
   "execution_count": null,
   "id": "63f57c2e",
   "metadata": {},
   "outputs": [],
   "source": [
    "down_stack = tf.keras.Model(inputs=base_model.input, outputs=base_model_outputs)\n",
    "down_stack.trainable = False"
   ]
  },
  {
   "cell_type": "code",
   "execution_count": null,
   "id": "c0343d98",
   "metadata": {},
   "outputs": [],
   "source": [
    "down_stack.summary()"
   ]
  },
  {
   "cell_type": "code",
   "execution_count": null,
   "id": "2a8900e1",
   "metadata": {},
   "outputs": [],
   "source": [
    "down_stack.trainable = False"
   ]
  },
  {
   "cell_type": "code",
   "execution_count": null,
   "id": "0a0c26b4",
   "metadata": {},
   "outputs": [],
   "source": [
    "up_stack = [\n",
    "    pix2pix.upsample(512, 3),\n",
    "    pix2pix.upsample(256, 3),\n",
    "    pix2pix.upsample(128, 3),\n",
    "    pix2pix.upsample(64, 3),\n",
    "]"
   ]
  },
  {
   "cell_type": "code",
   "execution_count": null,
   "id": "8466b5e2",
   "metadata": {},
   "outputs": [],
   "source": [
    "def unet_model(output_channels: int):\n",
    "    inputs = tf.keras.layers.Input(shape=[128, 128, 3])\n",
    "    skips = down_stack(inputs)\n",
    "    #print(skips)\n",
    "\n",
    "    x = skips[-1]\n",
    "    #print(x)\n",
    "\n",
    "    skips = reversed(skips[:-1])\n",
    "    print(skips)\n",
    "\n",
    "    for up, skip in zip(up_stack, skips):\n",
    "        x = up(x)\n",
    "        concat = tf.keras.layers.Concatenate()\n",
    "        x = concat([x, skip])\n",
    "\n",
    "    last = tf.keras.layers.Conv2DTranspose(\n",
    "        filters=output_channels, kernel_size=3, strides=2, padding='same')\n",
    "\n",
    "    x = last(x)\n",
    "    \n",
    "    return tf.keras.Model(inputs=inputs, outputs=x)\n",
    "\n",
    "\n"
   ]
  },
  {
   "cell_type": "code",
   "execution_count": null,
   "id": "0d70eba6",
   "metadata": {},
   "outputs": [],
   "source": [
    "OUTPUT_CLASSES = 2\n",
    "\n",
    "model = unet_model(output_channels=OUTPUT_CLASSES)\n",
    "model.compile(optimizer='adam',\n",
    "              loss=tf.keras.losses.SparseCategoricalCrossentropy(from_logits=True),\n",
    "              metrics=['accuracy'])"
   ]
  },
  {
   "cell_type": "code",
   "execution_count": null,
   "id": "69c4b6b5",
   "metadata": {},
   "outputs": [],
   "source": [
    "tf.keras.utils.plot_model(model, show_shapes=True)"
   ]
  },
  {
   "cell_type": "code",
   "execution_count": null,
   "id": "1d7ebc1f",
   "metadata": {},
   "outputs": [],
   "source": [
    "def create_mask(pred_mask):\n",
    "  pred_mask = tf.argmax(pred_mask, axis=-1)\n",
    "  pred_mask = pred_mask[..., tf.newaxis]\n",
    "  return pred_mask[0]\n",
    "\n",
    "def show_predictions(dataset=None, num=2):\n",
    "  if dataset:\n",
    "    for image, mask in dataset.take(num):\n",
    "      pred_mask = model.predict(image)\n",
    "      display([image[0], mask[0], create_mask(pred_mask)])\n",
    "  else:\n",
    "    display([sample_image, sample_mask,\n",
    "             create_mask(model.predict(sample_image[tf.newaxis, ...]))])\n",
    "    \n",
    "show_predictions(dataset)"
   ]
  },
  {
   "cell_type": "code",
   "execution_count": null,
   "id": "f128dc5e",
   "metadata": {},
   "outputs": [],
   "source": [
    "train_size = int(0.8 * DATASET_SIZE)\n",
    "val_size = int(0.1 * DATASET_SIZE)\n",
    "test_size = int(0.1 * DATASET_SIZE)\n",
    "\n",
    "print(train_size, val_size, test_size)"
   ]
  },
  {
   "cell_type": "code",
   "execution_count": null,
   "id": "32e808d5",
   "metadata": {},
   "outputs": [],
   "source": [
    "train_ds = dataset.take(train_size)\n",
    "test_ds = dataset.skip(train_size)\n",
    "validation_ds = test_ds.skip(test_size)\n",
    "test_ds = test_ds.take(test_size)"
   ]
  },
  {
   "cell_type": "code",
   "execution_count": null,
   "id": "49d856e0",
   "metadata": {},
   "outputs": [],
   "source": [
    "print(train_ds, test_ds, validation_ds)"
   ]
  },
  {
   "cell_type": "code",
   "execution_count": null,
   "id": "f4ecd4ea",
   "metadata": {},
   "outputs": [],
   "source": [
    "print(train_ds.cardinality)"
   ]
  },
  {
   "cell_type": "code",
   "execution_count": null,
   "id": "659b4aa4",
   "metadata": {},
   "outputs": [],
   "source": [
    "class DisplayCallback(tf.keras.callbacks.Callback):\n",
    "  def on_epoch_end(self, epoch, logs=None):\n",
    "    clear_output(wait=True)\n",
    "    show_predictions(dataset)\n",
    "    print ('\\nSample Prediction after epoch {}\\n'.format(epoch+1))"
   ]
  },
  {
   "cell_type": "code",
   "execution_count": null,
   "id": "3e5f3c7d",
   "metadata": {},
   "outputs": [],
   "source": [
    "print(train_ds)"
   ]
  },
  {
   "cell_type": "code",
   "execution_count": null,
   "id": "05ce3c19",
   "metadata": {},
   "outputs": [],
   "source": [
    "EPOCHS = 20\n",
    "VAL_SUBSPLITS = 5\n",
    "VALIDATION_STEPS = test_size//BATCH_SIZE//VAL_SUBSPLITS\n",
    "STEPS_PER_EPOCH = train_size//BATCH_SIZE\n",
    "\n",
    "#model_history = model.fit(train_ds, epochs=EPOCHS,\n",
    "#                          steps_per_epoch=STEPS_PER_EPOCH,\n",
    "#                          validation_steps=VALIDATION_STEPS,\n",
    "#                          validation_data=test_ds,\n",
    "#                          callbacks=[DisplayCallback()])\n",
    "\n",
    "model_history = model.fit(train_ds, epochs=EPOCHS,\n",
    "                          validation_data=test_ds,\n",
    "                          callbacks=[DisplayCallback()])"
   ]
  },
  {
   "cell_type": "code",
   "execution_count": null,
   "id": "70406544",
   "metadata": {},
   "outputs": [],
   "source": []
  }
 ],
 "metadata": {
  "kernelspec": {
   "display_name": "Python 3.9.4 64-bit ('tfp39': conda)",
   "language": "python",
   "name": "python394jvsc74a57bd07f1ba7a8850eb5df0f11e01e9d2b157245e2e7ef576e72dbf51ec933c8b68e10"
  },
  "language_info": {
   "codemirror_mode": {
    "name": "ipython",
    "version": 3
   },
   "file_extension": ".py",
   "mimetype": "text/x-python",
   "name": "python",
   "nbconvert_exporter": "python",
   "pygments_lexer": "ipython3",
   "version": "3.9.4"
  }
 },
 "nbformat": 4,
 "nbformat_minor": 5
}
